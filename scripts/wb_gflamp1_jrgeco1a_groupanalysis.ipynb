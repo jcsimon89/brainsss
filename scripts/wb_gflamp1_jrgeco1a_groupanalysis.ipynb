{
 "cells": [
  {
   "cell_type": "code",
   "execution_count": 18,
   "metadata": {},
   "outputs": [],
   "source": [
    "#import brainsss\n",
    "import os\n",
    "import numpy as np\n",
    "import matplotlib.pyplot as plt\n",
    "from sklearn.cluster import AgglomerativeClustering\n",
    "import scipy\n",
    "from scipy.cluster.hierarchy import dendrogram\n",
    "from scipy.cluster.hierarchy import fcluster\n",
    "from scipy.cluster import hierarchy\n",
    "import matplotlib as mpl\n",
    "from matplotlib.pyplot import cm\n",
    "import random\n",
    "from scipy.stats import sem\n",
    "import time\n",
    "import h5py\n",
    "#import ants\n",
    "import nibabel as nib\n",
    "import matplotlib\n",
    "from scipy.ndimage import gaussian_filter1d\n",
    "from collections import namedtuple"
   ]
  },
  {
   "cell_type": "code",
   "execution_count": 19,
   "metadata": {},
   "outputs": [],
   "source": [
    "# set inputs\n",
    "\n",
    "datadir = 'X:/data/Jacob/ImagingData/Bruker/brainsss/wb_gflamp1_jrgeco1a'#'/oak/stanford/groups/trc/data/Jacob/ImagingData/Bruker/brainsss/wb_gcamp8s_rcgull'\n",
    "savedir = datadir + '/groupanalysis'\n",
    "flies = ['fly_005']\n",
    "behaviors = ['tot_velocity','fwd_velocity', 'tan_velocity']\n",
    "fun_ch = ['1','2']\n",
    "\n"
   ]
  },
  {
   "cell_type": "code",
   "execution_count": 20,
   "metadata": {},
   "outputs": [],
   "source": [
    "# load corr data\n",
    "\n",
    "#I would like to have one data structure where I can reference neural data by (1) fly (2) behavior (3) channel\n",
    "#I can set up a similar path stucture for loading data\n",
    "\n",
    "corr = np.ndarray((314,146,91,len(flies),len(behaviors),len(fun_ch)))\n",
    "\n",
    "for fly in flies:\n",
    "    if fly=='fly_005':\n",
    "        flyindex = 0\n",
    "\n",
    "    for behavior in behaviors:\n",
    "        if behavior=='tot_velocity':\n",
    "            behaviorindex = 0\n",
    "        elif behavior=='fwd_velocity':\n",
    "            behaviorindex = 1\n",
    "        elif behavior=='tan_velocity':\n",
    "            behaviorindex = 2\n",
    "        for ch in fun_ch:\n",
    "            if ch=='1':\n",
    "                channelindex = 0\n",
    "            elif ch=='2':\n",
    "                channelindex = 1\n",
    "\n",
    "            corr[:,:,:,flyindex,behaviorindex,channelindex] = nib.load(datadir + '/' + fly + '/warp' + '/corr_{}-applied-non_myr_mean_ch{}.nii'.format(behavior,ch)).get_fdata()\n",
    "\n",
    "\n",
    "    #correlation\n",
    "\n",
    "    #zscore high pass\n",
    "   # neural_file = os.path.join(func_path, 'functional_channel_2_moco_zscore_highpass.h5') #\n",
    "    #with h5py.File(neural_file, 'r') as h:\n",
    "     #   print(h['data'].shape)\n",
    "      #  neural = h['data'][:]\n",
    "\n"
   ]
  },
  {
   "cell_type": "code",
   "execution_count": 21,
   "metadata": {},
   "outputs": [],
   "source": [
    "# make mean brain\n",
    "# correlation\n",
    "\n",
    "corr = np.mean(corr, axis=3) #x,y,z,behavior,channel"
   ]
  },
  {
   "cell_type": "code",
   "execution_count": 23,
   "metadata": {},
   "outputs": [
    {
     "ename": "NameError",
     "evalue": "name 'brainsss' is not defined",
     "output_type": "error",
     "traceback": [
      "\u001b[1;31m---------------------------------------------------------------------------\u001b[0m",
      "\u001b[1;31mNameError\u001b[0m                                 Traceback (most recent call last)",
      "\u001b[1;32m<ipython-input-23-f07dfe9831b7>\u001b[0m in \u001b[0;36m<module>\u001b[1;34m\u001b[0m\n\u001b[0;32m      7\u001b[0m \u001b[1;33m\u001b[0m\u001b[0m\n\u001b[0;32m      8\u001b[0m \u001b[1;33m\u001b[0m\u001b[0m\n\u001b[1;32m----> 9\u001b[1;33m \u001b[0mfixed\u001b[0m \u001b[1;33m=\u001b[0m \u001b[0mbrainsss\u001b[0m\u001b[1;33m.\u001b[0m\u001b[0mload_fda_meanbrain\u001b[0m\u001b[1;33m(\u001b[0m\u001b[1;33m)\u001b[0m\u001b[1;33m\u001b[0m\u001b[1;33m\u001b[0m\u001b[0m\n\u001b[0m\u001b[0;32m     10\u001b[0m \u001b[0matlas\u001b[0m \u001b[1;33m=\u001b[0m \u001b[0mbrainsss\u001b[0m\u001b[1;33m.\u001b[0m\u001b[0mload_roi_atlas\u001b[0m\u001b[1;33m(\u001b[0m\u001b[1;33m)\u001b[0m\u001b[1;33m\u001b[0m\u001b[1;33m\u001b[0m\u001b[0m\n\u001b[0;32m     11\u001b[0m \u001b[0mexplosion_rois\u001b[0m \u001b[1;33m=\u001b[0m \u001b[0mbrainsss\u001b[0m\u001b[1;33m.\u001b[0m\u001b[0mload_explosion_groups\u001b[0m\u001b[1;33m(\u001b[0m\u001b[1;33m)\u001b[0m\u001b[1;33m\u001b[0m\u001b[1;33m\u001b[0m\u001b[0m\n",
      "\u001b[1;31mNameError\u001b[0m: name 'brainsss' is not defined"
     ]
    }
   ],
   "source": [
    "# explode brain\n",
    "\n",
    "# total velocity (index0) channel 1 (index0)\n",
    "corr_fwdvel_ch1 = corr[:,:,:,0,0]\n",
    "corr_fwdvel_ch2 = corr[:,:,:,0,1]\n",
    "\n",
    "\n",
    "\n",
    "fixed = brainsss.load_fda_meanbrain()\n",
    "atlas = brainsss.load_roi_atlas()\n",
    "explosion_rois = brainsss.load_explosion_groups()\n",
    "all_rois = brainsss.unnest_roi_groups(explosion_rois)\n",
    "roi_masks = brainsss.make_single_roi_masks(all_rois, atlas)\n",
    "roi_contours = brainsss.make_single_roi_contours(roi_masks, atlas)\n",
    "\n",
    "explosions = []\n",
    "t0 = time.time()\n",
    "input_canvas = np.ones((500,500,3)) #+.5 #.5 for diverging\n",
    "data_to_plot = corr_fwdvel_ch1\n",
    "vmax = 0.5\n",
    "explosions = brainsss.place_roi_groups_on_canvas(explosion_rois,\n",
    "                                                        roi_masks,\n",
    "                                                        roi_contours,\n",
    "                                                        data_to_plot,\n",
    "                                                        input_canvas,\n",
    "                                                        vmax=vmax,\n",
    "                                                        cmap='seismic',\n",
    "                                                        diverging=True)#'hot')\n",
    "\n",
    "plt.figure(figsize=(14,5))\n",
    "plt.imshow(explosions[150:,:])"
   ]
  }
 ],
 "metadata": {
  "kernelspec": {
   "display_name": "brainsss",
   "language": "python",
   "name": "python3"
  },
  "language_info": {
   "codemirror_mode": {
    "name": "ipython",
    "version": 3
   },
   "file_extension": ".py",
   "mimetype": "text/x-python",
   "name": "python",
   "nbconvert_exporter": "python",
   "pygments_lexer": "ipython3",
   "version": "3.6.13"
  }
 },
 "nbformat": 4,
 "nbformat_minor": 2
}
