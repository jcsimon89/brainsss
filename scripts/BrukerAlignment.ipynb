{
 "cells": [
  {
   "cell_type": "code",
   "execution_count": 2,
   "metadata": {},
   "outputs": [],
   "source": [
    "#also requires the following modules to be loaded: py-jupyter/1.0.0_py36, python/3.6.1, py-ants/0.3.2_py36\n",
    "\n",
    "import os\n",
    "import numpy as np\n",
    "import nibabel as nib\n",
    "import ants\n",
    "from shutil import copyfile"
   ]
  },
  {
   "cell_type": "code",
   "execution_count": 3,
   "metadata": {},
   "outputs": [
    {
     "name": "stderr",
     "output_type": "stream",
     "text": [
      "/share/software/user/open/py-jupyter/1.0.0_py36/lib/python3.6/site-packages/ipykernel_launcher.py:7: DeprecationWarning:\n",
      "\n",
      "get_data() is deprecated in favor of get_fdata(), which has a more predictable return type. To obtain get_data() behavior going forward, use numpy.asanyarray(img.dataobj).\n",
      "\n",
      "* deprecated from version: 3.0\n",
      "* Will raise <class 'nibabel.deprecator.ExpiredDeprecationError'> as of version: 5.0\n",
      "\n",
      "/share/software/user/open/py-jupyter/1.0.0_py36/lib/python3.6/site-packages/ipykernel_launcher.py:8: DeprecationWarning:\n",
      "\n",
      "get_data() is deprecated in favor of get_fdata(), which has a more predictable return type. To obtain get_data() behavior going forward, use numpy.asanyarray(img.dataobj).\n",
      "\n",
      "* deprecated from version: 3.0\n",
      "* Will raise <class 'nibabel.deprecator.ExpiredDeprecationError'> as of version: 5.0\n",
      "\n"
     ]
    },
    {
     "name": "stdout",
     "output_type": "stream",
     "text": [
      "['/tmp/tmp0n2r68vk0GenericAffine.mat']\n"
     ]
    }
   ],
   "source": [
    "dir = '/oak/stanford/groups/trc/data/Jacob/ImagingData/Bruker/20231117/moco/'\n",
    "files = os.listdir(dir)\n",
    "files = [f for f in files if f.endswith('_moco.nii')]\n",
    "\n",
    "# import mean image from moco nii stacks\n",
    "# load mean images\n",
    "image1np = np.mean(np.asarray(nib.load(dir + files[0]).get_data(),dtype='float32'), axis=3)\n",
    "image2np = np.mean(np.asarray(nib.load(dir + files[1]).get_data(),dtype='float32'), axis=3)\n",
    "\n",
    "image1 = ants.from_numpy(image1np)\n",
    "image2 = ants.from_numpy(image2np)\n",
    "\n",
    "grad_step = 0.2\n",
    "flow_sigma = 3\n",
    "total_sigma = 0\n",
    "syn_sampling = 32\n",
    "type_of_transform = 'Translation'\n",
    "\n",
    "moco = ants.registration(image1,image2,type_of_transform=type_of_transform,grad_step=grad_step, flow_sigma=flow_sigma,total_sigma=total_sigma)\n",
    "    #syn_sampling=syn_sampling)\n",
    "\n",
    "fwdtransforms = moco['fwdtransforms']\n",
    "print(fwdtransforms)\n"
   ]
  },
  {
   "cell_type": "code",
   "execution_count": 4,
   "metadata": {
    "collapsed": true
   },
   "outputs": [],
   "source": [
    "#save transform\n",
    "fwdtransforms_save_dir = os.path.join(dir, 'fwdtransforms')\n",
    "if not os.path.exists(fwdtransforms_save_dir):\n",
    "    os.mkdir(fwdtransforms_save_dir)\n",
    "for source_path in fwdtransforms:\n",
    "    source_file = source_path.split('/')[-1]\n",
    "    target_path = os.path.join(fwdtransforms_save_dir, source_file)\n",
    "    copyfile(source_path, target_path)\n"
   ]
  },
  {
   "cell_type": "code",
   "execution_count": 5,
   "metadata": {},
   "outputs": [
    {
     "data": {
      "text/plain": [
       "array([1.        , 0.        , 0.        , 0.        , 1.        ,\n",
       "       0.        , 0.        , 0.        , 1.        , 0.95388794,\n",
       "       5.14637756, 2.66687012])"
      ]
     },
     "execution_count": 5,
     "metadata": {},
     "output_type": "execute_result"
    }
   ],
   "source": [
    "#load and print transform\n",
    "tx = ants.read_transform(target_path)\n",
    "tx_params = np.asarray(tx.parameters)\n",
    "tx_params"
   ]
  },
  {
   "cell_type": "code",
   "execution_count": 6,
   "metadata": {},
   "outputs": [
    {
     "name": "stdout",
     "output_type": "stream",
     "text": [
      "['/tmp/tmp5d94zrtx0GenericAffine.mat']\n"
     ]
    }
   ],
   "source": [
    "# register shifted image\n",
    "\n",
    "#add 5 frames in z dim\n",
    "image1npshift = np.zeros((image1np.shape[0], image1np.shape[1], image1np.shape[2]+5))\n",
    "image2npshift = np.zeros((image2np.shape[0], image2np.shape[1], image2np.shape[2]+5))\n",
    "#shift images\n",
    "image1npshift[:,:,0:image1np.shape[2]] = image1np\n",
    "image2npshift[:,:,5:image2np.shape[2]+5] = image2np\n",
    "#convert to ants\n",
    "image1shift = ants.from_numpy(image1npshift)\n",
    "image2shift = ants.from_numpy(image2npshift)\n",
    "grad_step = 0.2\n",
    "\n",
    "moco_shift = ants.registration(image1shift,image2shift,type_of_transform=type_of_transform,grad_step=grad_step, flow_sigma=flow_sigma,total_sigma=total_sigma)\n",
    "    #syn_sampling=syn_sampling)\n",
    "\n",
    "fwdtransforms_shift = moco_shift['fwdtransforms']\n",
    "print(fwdtransforms_shift)"
   ]
  },
  {
   "cell_type": "code",
   "execution_count": 7,
   "metadata": {},
   "outputs": [],
   "source": [
    "#save transform\n",
    "for source_path in fwdtransforms_shift:\n",
    "    source_file = source_path.split('/')[-1]\n",
    "    target_path = os.path.join(fwdtransforms_save_dir, source_file)\n",
    "    copyfile(source_path, target_path)\n"
   ]
  },
  {
   "cell_type": "code",
   "execution_count": 8,
   "metadata": {},
   "outputs": [
    {
     "data": {
      "text/plain": [
       "array([ 0.00000000e+00,  0.00000000e+00,  0.00000000e+00,  0.00000000e+00,\n",
       "        0.00000000e+00,  0.00000000e+00,  0.00000000e+00,  0.00000000e+00,\n",
       "        0.00000000e+00,  1.14440918e-04, -4.08935547e-03, -5.01094913e+00])"
      ]
     },
     "execution_count": 8,
     "metadata": {},
     "output_type": "execute_result"
    }
   ],
   "source": [
    "#load transform and figure out which is z dim\n",
    "tx_shift = ants.read_transform(target_path)\n",
    "txshift_params = np.asarray(tx_shift.parameters)\n",
    "tx_params - txshift_params #number ~5 indicates which dim corresponds to shift in z: turns out its x y z shift as the last 3 args in the paramaeter array"
   ]
  },
  {
   "cell_type": "code",
   "execution_count": 9,
   "metadata": {},
   "outputs": [
    {
     "name": "stdout",
     "output_type": "stream",
     "text": [
      "x,y,z shift in microns between 920nm and 1064nm excitation is 0.20756387, 1.11984018, 1.33343506\n"
     ]
    }
   ],
   "source": [
    "#final result\n",
    "\n",
    "#scan resolution microns/voxel\n",
    "x_res=0.217597749403822\n",
    "y_res=0.217597749403822\n",
    "z_res=0.5\n",
    "\n",
    "#calculate shift in microns\n",
    "x_shift = tx_params[9]*x_res\n",
    "y_shift = tx_params[10]*y_res\n",
    "z_shift = tx_params[11]*z_res\n",
    "print('x,y,z shift in microns between 920nm and 1064nm excitation is ' + np.array2string(x_shift) + ', ' + np.array2string(y_shift) + ', ' + np.array2string(z_shift))"
   ]
  }
 ],
 "metadata": {
  "kernelspec": {
   "display_name": "Python 3",
   "language": "python",
   "name": "python3"
  },
  "language_info": {
   "codemirror_mode": {
    "name": "ipython",
    "version": 3
   },
   "file_extension": ".py",
   "mimetype": "text/x-python",
   "name": "python",
   "nbconvert_exporter": "python",
   "pygments_lexer": "ipython3",
   "version": "3.6.1"
  }
 },
 "nbformat": 4,
 "nbformat_minor": 2
}
